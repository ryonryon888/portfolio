{
  "nbformat": 4,
  "nbformat_minor": 0,
  "metadata": {
    "colab": {
      "name": "Private_Git_Repo_SSH_key.ipynb",
      "provenance": []
    },
    "kernelspec": {
      "name": "python3",
      "display_name": "Python 3"
    },
    "language_info": {
      "name": "python"
    }
  },
  "cells": [
    {
      "cell_type": "code",
      "metadata": {
        "id": "oKyH_fYBG0-U"
      },
      "source": [
        "# 参考 URL\n",
        "# https://colab.research.google.com/drive/1a3JzBgnX1PxALcncm6Cn3LZqxm6ZWRWT#scrollTo=yQJyHzk9a_B-"
      ],
      "execution_count": null,
      "outputs": []
    },
    {
      "cell_type": "code",
      "metadata": {
        "id": "BJcm7fmfBx_J"
      },
      "source": [
        "# root 以下に .ssh ディレクトリを作成（無い場合) \n",
        "!install -m 0700 -d ~/.ssh\n",
        "# .shh の権限を変更\n",
        "!chmod 700 /root/.ssh"
      ],
      "execution_count": null,
      "outputs": []
    },
    {
      "cell_type": "code",
      "metadata": {
        "id": "zPr2QDEMCD2-"
      },
      "source": [
        "# 秘密鍵と公開鍵を生成(名前はid_rsa, ※実行結果の指示に従う事)\n",
        "!ssh-keygen -t rsa -b 4096 -C \"username@github.com\" "
      ],
      "execution_count": null,
      "outputs": []
    },
    {
      "cell_type": "code",
      "metadata": {
        "id": "DXQL1oqtCchW"
      },
      "source": [
        "#鍵の生成を確認\n",
        "!ls /root/.ssh/"
      ],
      "execution_count": null,
      "outputs": []
    },
    {
      "cell_type": "code",
      "metadata": {
        "id": "ExtZeJyvChQF"
      },
      "source": [
        "#公開鍵の確認⇒ github へ登録(自分のアカウントのdeploy key に登録)\n",
        "!cat /root/.ssh/id_rsa.pub"
      ],
      "execution_count": null,
      "outputs": []
    },
    {
      "cell_type": "code",
      "metadata": {
        "id": "SETp3uihC24A"
      },
      "source": [
        "#秘密鍵の確認\n",
        "!cat /root/.ssh/id_rsa"
      ],
      "execution_count": null,
      "outputs": []
    },
    {
      "cell_type": "code",
      "metadata": {
        "id": "rk17de5JC8OT"
      },
      "source": [
        "#権限の設定及び変更、接続\n",
        "!ssh-keyscan github.com >> /root/.ssh/known_hosts\n",
        "!chmod 644 /root/.ssh/known_hosts\n",
        "!chmod 600 /root/.ssh/id_rsa\n",
        "!ssh -T git@github.com"
      ],
      "execution_count": null,
      "outputs": []
    },
    {
      "cell_type": "code",
      "metadata": {
        "id": "y7inb8ZkDB8Q"
      },
      "source": [
        "# ./copy 内にクローン (\"username\" を名前に変更)\n",
        "!git clone git@github.com:\"username\"/signate ./copy"
      ],
      "execution_count": null,
      "outputs": []
    },
    {
      "cell_type": "code",
      "metadata": {
        "colab": {
          "base_uri": "https://localhost:8080/"
        },
        "id": "07xwddI5GQTP",
        "outputId": "377bb38b-2df1-4580-dca7-a1673f9d9f37"
      },
      "source": [
        "#ドライブをマウント\n",
        "from google.colab import drive\n",
        "drive.mount('/content/drive')"
      ],
      "execution_count": null,
      "outputs": [
        {
          "output_type": "stream",
          "text": [
            "Mounted at /content/drive\n"
          ],
          "name": "stdout"
        }
      ]
    },
    {
      "cell_type": "code",
      "metadata": {
        "id": "5KLIjC92GZI-"
      },
      "source": [
        "#鍵情報をマイドライブに保存 (マイドライブ内に signate_key フォルダを自分で予め作成)\n",
        "!cp /root/.ssh/* /content/drive/MyDrive/signate_key"
      ],
      "execution_count": null,
      "outputs": []
    },
    {
      "cell_type": "code",
      "metadata": {
        "colab": {
          "base_uri": "https://localhost:8080/"
        },
        "id": "2NBUr6goGpd4",
        "outputId": "5c8efb8a-e66c-429a-e841-10c2fa0f88f9"
      },
      "source": [
        "#保存されたか確認\n",
        "!ls /content/drive/MyDrive/signate_key"
      ],
      "execution_count": null,
      "outputs": [
        {
          "output_type": "stream",
          "text": [
            "id_rsa\tid_rsa.pub  known_hosts\n"
          ],
          "name": "stdout"
        }
      ]
    }
  ]
}