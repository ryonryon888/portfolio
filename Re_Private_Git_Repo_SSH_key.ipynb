{
  "nbformat": 4,
  "nbformat_minor": 0,
  "metadata": {
    "colab": {
      "name": "Re_Private_Git_Repo_SSH_key.ipynb",
      "provenance": []
    },
    "kernelspec": {
      "name": "python3",
      "display_name": "Python 3"
    },
    "language_info": {
      "name": "python"
    }
  },
  "cells": [
    {
      "cell_type": "code",
      "metadata": {
        "id": "Qqdz3y5OIjUa"
      },
      "source": [
        "# root 以下に .ssh ディレクトリを作成（無い場合) \n",
        "!install -m 0700 -d ~/.ssh\n",
        "# .shh の権限を変更\n",
        "!chmod 700 /root/.ssh"
      ],
      "execution_count": 1,
      "outputs": []
    },
    {
      "cell_type": "code",
      "metadata": {
        "colab": {
          "base_uri": "https://localhost:8080/"
        },
        "id": "GDMW3uFtJSx3",
        "outputId": "d46593a1-d424-44cc-b5f1-4b20f1b5d2ad"
      },
      "source": [
        "#ドライブをマウント\n",
        "from google.colab import drive\n",
        "drive.mount('/content/drive')"
      ],
      "execution_count": 2,
      "outputs": [
        {
          "output_type": "stream",
          "text": [
            "Mounted at /content/drive\n"
          ],
          "name": "stdout"
        }
      ]
    },
    {
      "cell_type": "code",
      "metadata": {
        "id": "EPxZw9_AJnb6"
      },
      "source": [
        "#マイドライブの鍵情報をコピー\n",
        "!cp  /content/drive/MyDrive/signate_key/* /root/.ssh/"
      ],
      "execution_count": 3,
      "outputs": []
    },
    {
      "cell_type": "code",
      "metadata": {
        "colab": {
          "base_uri": "https://localhost:8080/"
        },
        "id": "rY66VAx6J0xu",
        "outputId": "e3e55a26-7f09-460c-aa55-b4c7e3a6be96"
      },
      "source": [
        "#鍵情報の確認\n",
        "!ls /root/.ssh/"
      ],
      "execution_count": 4,
      "outputs": [
        {
          "output_type": "stream",
          "text": [
            "id_rsa\tid_rsa.pub  known_hosts\n"
          ],
          "name": "stdout"
        }
      ]
    },
    {
      "cell_type": "code",
      "metadata": {
        "colab": {
          "base_uri": "https://localhost:8080/"
        },
        "id": "m6oRMfZ3J5Mx",
        "outputId": "f2cccb1a-34b3-4d4a-e4ea-be9a69534626"
      },
      "source": [
        "#権限の設定及び変更、接続\n",
        "!ssh-keyscan github.com >> /root/.ssh/known_hosts\n",
        "!chmod 644 /root/.ssh/known_hosts\n",
        "!chmod 600 /root/.ssh/id_rsa\n",
        "!ssh -T git@github.com"
      ],
      "execution_count": 5,
      "outputs": [
        {
          "output_type": "stream",
          "text": [
            "# github.com:22 SSH-2.0-babeld-cec9758f\n",
            "# github.com:22 SSH-2.0-babeld-cec9758f\n",
            "# github.com:22 SSH-2.0-babeld-cec9758f\n",
            "Warning: Permanently added the RSA host key for IP address '140.82.113.4' to the list of known hosts.\n",
            "Hi ryonryon888/signate! You've successfully authenticated, but GitHub does not provide shell access.\n"
          ],
          "name": "stdout"
        }
      ]
    },
    {
      "cell_type": "code",
      "metadata": {
        "colab": {
          "base_uri": "https://localhost:8080/"
        },
        "id": "WdK3a75QJ-LO",
        "outputId": "3310a5e9-d57b-4d89-d9f3-fa7192ae7a03"
      },
      "source": [
        "# ./copy 内にクローン\n",
        "!git clone git@github.com:ryonryon888/signate ./copy"
      ],
      "execution_count": null,
      "outputs": [
        {
          "output_type": "stream",
          "text": [
            "Cloning into './copy'...\n",
            "remote: Enumerating objects: 5412, done.\u001b[K\n",
            "remote: Counting objects: 100% (18/18), done.\u001b[K\n",
            "remote: Compressing objects: 100% (10/10), done.\u001b[K\n"
          ],
          "name": "stdout"
        }
      ]
    }
  ]
}